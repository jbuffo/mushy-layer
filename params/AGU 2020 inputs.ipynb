{
 "cells": [
  {
   "cell_type": "markdown",
   "metadata": {},
   "source": [
    "This is a notebook for generating chombo input files by replacing selected parameters from a previous file"
   ]
  },
  {
   "cell_type": "code",
   "execution_count": null,
   "metadata": {},
   "outputs": [],
   "source": [
    "def replace(old, repl):\n",
    "    \"\"\" Replace selected parameters in place \"\"\"\n",
    "    new = []\n",
    "    for line in old:\n",
    "        if \"#\" in line and line.replace(' ', '')[0] == \"#\":\n",
    "            new.append(line)\n",
    "            continue\n",
    "            \n",
    "        for repl_key, repl_val in repl.items():\n",
    "            if repl_key + \"=\" in line.replace(' ', ''):\n",
    "                # replace anything before a comment with the new parameters\n",
    "                pre_comment = line.split(\"#\")[0] if \"#\" in line else line\n",
    "                line = line.replace(pre_comment, f\"{repl_key}={repl_val} \")\n",
    "                \n",
    "                # ensure line ends if 'end of line' symbol\n",
    "                if line[-2] != \"\\n\":\n",
    "                    line = line + \"\\n\"\n",
    "                \n",
    "        new.append(line)\n",
    "                \n",
    "    return new\n",
    "\n",
    "def load_inputs(inputs_path=\"agu2020/inputs.2d\"):\n",
    "    \"\"\" Load chombo inputs file \"\"\"\n",
    "    f = open(inputs_path, \"r\")\n",
    "    inputs = f.readlines()\n",
    "    return inputs\n",
    "    \n",
    "def print_inputs(inputs):\n",
    "    \"\"\" Print out chombo inputs file \"\"\"\n",
    "    for line in inputs:\n",
    "        print(line, end=\"\")\n",
    "    \n",
    "# Load inputs\n",
    "old_inputs = load_inputs()\n",
    "\n",
    "# Replace params\n",
    "for n_cells in [32, 64, 128, 256, 512, 1024]:\n",
    "    replacements = {\"main.num_cells\": f\"{n_cells} {n_cells}\"}\n",
    "    new_inputs = replace(old_inputs, replacements)\n",
    "    \n",
    "    # Print new inputs\n",
    "#     print_inputs(new_inputs)\n",
    "    \n",
    "    # Save as a text file\n",
    "    # Open the new inputs through File->Open->Navigate to \"agu2020/new_inputs\"\n",
    "    # then File->Download\n",
    "    inputs_file_name = f\"agu2020/inputs.2d.1x1.{n_cells}\"\n",
    "    with open(inputs_file_name, \"w+\") as f:\n",
    "        f.writelines(new_inputs)\n",
    "        \n",
    "    print(f\"Wrote to {inputs_file_name} with replaced parameters: {replacements}\")\n",
    "\n",
    "\n",
    "\n"
   ]
  }
 ],
 "metadata": {
  "kernelspec": {
   "display_name": "Python 3",
   "language": "python",
   "name": "python3"
  },
  "language_info": {
   "codemirror_mode": {
    "name": "ipython",
    "version": 3
   },
   "file_extension": ".py",
   "mimetype": "text/x-python",
   "name": "python",
   "nbconvert_exporter": "python",
   "pygments_lexer": "ipython3",
   "version": "3.6.9"
  }
 },
 "nbformat": 4,
 "nbformat_minor": 2
}
